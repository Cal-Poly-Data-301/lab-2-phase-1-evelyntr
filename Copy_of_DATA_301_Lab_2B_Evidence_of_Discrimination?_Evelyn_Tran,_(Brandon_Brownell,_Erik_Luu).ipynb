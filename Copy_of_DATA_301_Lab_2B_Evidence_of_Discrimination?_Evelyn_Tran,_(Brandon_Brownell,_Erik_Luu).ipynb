{
  "nbformat": 4,
  "nbformat_minor": 0,
  "metadata": {
    "kernelspec": {
      "display_name": "Python 3",
      "language": "python",
      "name": "python3"
    },
    "language_info": {
      "codemirror_mode": {
        "name": "ipython",
        "version": 3
      },
      "file_extension": ".py",
      "mimetype": "text/x-python",
      "name": "python",
      "nbconvert_exporter": "python",
      "pygments_lexer": "ipython3",
      "version": "3.6.4"
    },
    "colab": {
      "name": "Copy of DATA 301 Lab 2B. Evidence of Discrimination? - Evelyn Tran, (Brandon Brownell, Erik Luu)",
      "provenance": [],
      "collapsed_sections": [],
      "include_colab_link": true
    }
  },
  "cells": [
    {
      "cell_type": "markdown",
      "metadata": {
        "id": "view-in-github",
        "colab_type": "text"
      },
      "source": [
        "<a href=\"https://colab.research.google.com/github/Cal-Poly-Data-301/lab-2-phase-1-evelyntr/blob/main/Copy_of_DATA_301_Lab_2B_Evidence_of_Discrimination%3F_Evelyn_Tran%2C_(Brandon_Brownell%2C_Erik_Luu).ipynb\" target=\"_parent\"><img src=\"https://colab.research.google.com/assets/colab-badge.svg\" alt=\"Open In Colab\"/></a>"
      ]
    },
    {
      "cell_type": "markdown",
      "metadata": {
        "id": "3GRr9ej57rEW"
      },
      "source": [
        "# Evidence of Discrimination?\n",
        "\n",
        "The Department of Developmental Services (DDS) in California is responsible for allocating funds to support over 250,000 developmentally-disabled residents. The data set `https://dlsun.github.io/pods/data/ca_dds_expenditures.csv` contains data about 1,000 of these residents. The data comes from a discrimination lawsuit which alleged that California's Department of Developmental Services (DDS) privileged white (non-Hispanic) residents over Hispanic residents in allocating funds. We will focus on comparing the allocation of funds (i.e., expenditures) for these two ethnicities only, although there are other ethnicities in this data set.\n",
        "\n",
        "There are 6 variables in this data set:\n",
        "\n",
        "- Id:  5-digit, unique identification code for each consumer (similar to a social security number and used for identification purposes)  \n",
        "- Age Cohort:  Binned age variable represented as six age cohorts (0-5, 6-12, 13-17, 18-21, 22-50, and 51+)\n",
        "- Age:  Unbinned age variable\n",
        "- Gender:  Male or Female\n",
        "- Expenditures:  Dollar amount of annual expenditures spent on each consumer\n",
        "- Ethnicity:  Eight ethnic groups (American Indian, Asian, Black, Hispanic, Multi-race, Native Hawaiian, Other, and White non-Hispanic)"
      ]
    },
    {
      "cell_type": "markdown",
      "metadata": {
        "id": "pBrvxdVd7rEY"
      },
      "source": [
        "# Question 1\n",
        "\n",
        "Read in the data set. Make a graphic that compares the _average_ expenditures by the DDS on Hispanic residents and white (non-Hispanic) residents. Comment on what you see."
      ]
    },
    {
      "cell_type": "code",
      "metadata": {
        "id": "HPu1DTOY7rEa",
        "colab": {
          "base_uri": "https://localhost:8080/",
          "height": 391
        },
        "outputId": "658b550e-fbbb-42f8-cf07-492db77e0224"
      },
      "source": [
        "import pandas as pd\n",
        "\n",
        "data_dir = \"https://dlsun.github.io/pods/data/\"\n",
        "df_dds = pd.read_csv(data_dir + \"ca_dds_expenditures.csv\")\n",
        "df_dds[\"Ethnicity\"] = df_dds[\"Ethnicity\"].map({\n",
        "    \"White not Hispanic\": \"White (non-Hispanic)\",\n",
        "    \"Hispanic\": \"Hispanic\"\n",
        "})\n",
        "(df_dds.groupby(\"Ethnicity\")[\"Expenditures\"].mean().\n",
        " plot.bar())"
      ],
      "execution_count": 29,
      "outputs": [
        {
          "output_type": "execute_result",
          "data": {
            "text/plain": [
              "<matplotlib.axes._subplots.AxesSubplot at 0x7fa3c9288250>"
            ]
          },
          "metadata": {},
          "execution_count": 29
        },
        {
          "output_type": "display_data",
          "data": {
            "image/png": "[encoded data removed]",
            "text/plain": [
              "<Figure size 432x288 with 1 Axes>"
            ]
          },
          "metadata": {
            "needs_background": "light"
          }
        }
      ]
    },
    {
      "cell_type": "markdown",
      "metadata": {
        "id": "FvfRcog37rEf"
      },
      "source": [
        "Based on the bar chart, we can see that the average expenditure by the DDS is much higher for White (non-Hispanic) residents than it is for Hispanic residents. The average expenditure for white residents is almost double that for Hispanic residents. "
      ]
    },
    {
      "cell_type": "markdown",
      "metadata": {
        "id": "CmxE7M3o7rEg"
      },
      "source": [
        "# Question 2\n",
        "\n",
        "Now, calculate the average expenditures by ethnicity and age cohort. Make a graphic that compares the average expenditure on Hispanic residents and white (non-Hispanic) residents, _within each age cohort_. \n",
        "\n",
        "Comment on what you see. How do these results appear to contradict the results you obtained in Question 1?"
      ]
    },
    {
      "cell_type": "code",
      "metadata": {
        "id": "u_J1LRI37rEh",
        "colab": {
          "base_uri": "https://localhost:8080/",
          "height": 447
        },
        "outputId": "53ff3cd4-e7e9-4a2a-e15c-30bf1a142629"
      },
      "source": [
        "import pandas as pd\n",
        "\n",
        "data_dir = \"https://dlsun.github.io/pods/data/\"\n",
        "df_dds = pd.read_csv(data_dir + \"ca_dds_expenditures.csv\")\n",
        "df_dds[\"Ethnicity\"] = df_dds[\"Ethnicity\"].map({\n",
        "    \"White not Hispanic\": \"White (non-Hispanic)\",\n",
        "    \"Hispanic\": \"Hispanic\"\n",
        "})\n",
        "(df_dds.groupby([\"Ethnicity\", \"Age Cohort\"])[\"Expenditures\"].mean().\n",
        " plot.bar())\n"
      ],
      "execution_count": 31,
      "outputs": [
        {
          "output_type": "execute_result",
          "data": {
            "text/plain": [
              "<matplotlib.axes._subplots.AxesSubplot at 0x7fa3c924cc90>"
            ]
          },
          "metadata": {},
          "execution_count": 31
        },
        {
          "output_type": "display_data",
          "data": {
            "image/png": "[encoded data removed]",
            "text/plain": [
              "<Figure size 432x288 with 1 Axes>"
            ]
          },
          "metadata": {
            "needs_background": "light"
          }
        }
      ]
    },
    {
      "cell_type": "markdown",
      "metadata": {
        "id": "CFriAmRB7rEl"
      },
      "source": [
        "The graphic shows that despite the CA DDS spending more on average expenditures for white residents (found in Question 1), the CA DDS actually spends the most on Hispanic residents within the 51+ age cohort. Looking at the other age ranges, the DDS seems to spend a similar amount if not more on Hispanic residents. "
      ]
    },
    {
      "cell_type": "markdown",
      "metadata": {
        "id": "vNJHIPO77rEm"
      },
      "source": [
        "# Question 3\n",
        "\n",
        "Can you explain the discrepancy between the two analyses you conducted above (i.e., Questions 1 and 2)? Try to tell a complete story that interweaves tables, graphics, and explanation.\n",
        "\n",
        "_Hint:_ You might want to consider looking at:\n",
        "\n",
        "- the distributions of ages of Hispanics and whites\n",
        "- the average expenditure as a function of age"
      ]
    },
    {
      "cell_type": "code",
      "metadata": {
        "id": "mo4aLinP7rEn",
        "colab": {
          "base_uri": "https://localhost:8080/",
          "height": 313
        },
        "outputId": "27211179-35c6-48b2-dcc7-16d71bfc9d41"
      },
      "source": [
        "import pandas as pd\n",
        "\n",
        "data_dir = \"https://dlsun.github.io/pods/data/\"\n",
        "df_dds = pd.read_csv(data_dir + \"ca_dds_expenditures.csv\")\n",
        "df_dds[\"Ethnicity\"] = df_dds[\"Ethnicity\"].map({\n",
        "    \"White not Hispanic\": \"White (non-Hispanic)\",\n",
        "    \"Hispanic\": \"Hispanic\"\n",
        "})\n",
        "(df_dds.groupby(\"Age\")[\"Expenditures\"].mean().\n",
        " plot.bar())\n",
        "\n"
      ],
      "execution_count": 38,
      "outputs": [
        {
          "output_type": "stream",
          "name": "stderr",
          "text": [
            "/usr/local/lib/python3.7/dist-packages/numpy/lib/histograms.py:905: RuntimeWarning: invalid value encountered in true_divide\n",
            "  return n/db/n.sum(), bin_edges\n"
          ]
        },
        {
          "output_type": "display_data",
          "data": {
            "image/png": "[encoded data removed]",
            "text/plain": [
              "<Figure size 432x288 with 1 Axes>"
            ]
          },
          "metadata": {
            "needs_background": "light"
          }
        }
      ]
    },
    {
      "cell_type": "code",
      "source": [
        "for e in df_dds[\"Ethnicity\"].unique():\n",
        "    df_dds[df_dds[\"Ethnicity\"] == e][\"Age\"].plot.hist(\n",
        "        label=e,\n",
        "        density=True,\n",
        "        alpha=0.5,\n",
        "        legend=True\n",
        "    )\n",
        "df_dds[df_dds[\"Ethnicity\"] == \"White (non-Hispanic)\"][\"Age\"].mean()\n"
      ],
      "metadata": {
        "colab": {
          "base_uri": "https://localhost:8080/",
          "height": 316
        },
        "id": "tvJqJDlksTGw",
        "outputId": "b51886a4-6891-4d20-b0f5-f6631314b040"
      },
      "execution_count": 42,
      "outputs": [
        {
          "output_type": "stream",
          "name": "stderr",
          "text": [
            "/usr/local/lib/python3.7/dist-packages/numpy/lib/histograms.py:905: RuntimeWarning: invalid value encountered in true_divide\n",
            "  return n/db/n.sum(), bin_edges\n"
          ]
        },
        {
          "output_type": "execute_result",
          "data": {
            "text/plain": [
              "27.97506234413965"
            ]
          },
          "metadata": {},
          "execution_count": 42
        },
        {
          "output_type": "display_data",
          "data": {
            "image/png": "[encoded data removed]",
            "text/plain": [
              "<Figure size 432x288 with 1 Axes>"
            ]
          },
          "metadata": {
            "needs_background": "light"
          }
        }
      ]
    },
    {
      "cell_type": "code",
      "source": [
        "df_dds[df_dds[\"Ethnicity\"] == \"Hispanic\"][\"Age\"].mean()"
      ],
      "metadata": {
        "colab": {
          "base_uri": "https://localhost:8080/"
        },
        "id": "9th1aUbXt-P9",
        "outputId": "f4ce817e-ea83-4a96-868f-83095420e4b8"
      },
      "execution_count": 43,
      "outputs": [
        {
          "output_type": "execute_result",
          "data": {
            "text/plain": [
              "17.375"
            ]
          },
          "metadata": {},
          "execution_count": 43
        }
      ]
    },
    {
      "cell_type": "markdown",
      "metadata": {
        "id": "dmdJ1RTp7rEq"
      },
      "source": [
        "When looking at the average expenditure as a function of age, we can see that the average expenditure increases dramatically, the older the age. The reasoning can be due to a variety of health concerns as one ages. Analyzing the histogram above, we can also note that despite the CA DDS having the highest expenditure for Hispanic residents 51+ years old, there are much fewer Hispanic residents in that age cohort, compared to white residents. The average age of a white resident is 27 years old; whereas, the average age of a Hispanic resident is 17 years old. There is a greater number of older white residents; therefore, the DDS on average spends a higher amount. "
      ]
    },
    {
      "cell_type": "markdown",
      "metadata": {
        "id": "4JdcqKm57rEr"
      },
      "source": [
        "## Submission Instructions\n",
        "\n",
        "- Copy this notebook to your own Drive, if you have not already.\n",
        "- Restart this notebook and run the cells from beginning to end. \n",
        "  - Go to Runtime > Restart and Run All.\n",
        "- Rename this notebook by clicking on \"DATA 301 Lab 2B - YOUR NAME HERE\" at the very top of this page. Replace \"YOUR NAMES HERE\" with the first and last names of you (and your partners, for Phase 2).\n",
        "- Get the link to your notebook:\n",
        "  - Click on \"Share\" at the top-right. \n",
        "  - Change the settings to \"Anyone with the link can view\". \n",
        "  - Copy the sharing link into Canvas."
      ]
    }
  ]
}